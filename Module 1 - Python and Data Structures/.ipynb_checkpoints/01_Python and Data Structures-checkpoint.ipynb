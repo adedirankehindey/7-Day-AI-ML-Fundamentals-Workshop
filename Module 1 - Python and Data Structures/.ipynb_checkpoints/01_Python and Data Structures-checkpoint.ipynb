{
 "cells": [
  {
   "cell_type": "markdown",
   "id": "9c04a2ed",
   "metadata": {},
   "source": [
    "# Day 1 - Content\n",
    "\n",
    "- 1 | Basics and Installations\n",
    "- 2 | While Loops, Lists, Strings\n",
    "- 3 | Functions\n",
    "- 4 | Modules, Packages, and PIP\n",
    "- 5 | Data Structures"
   ]
  },
  {
   "cell_type": "markdown",
   "id": "b1e16abf",
   "metadata": {},
   "source": [
    "# 1 | Basics and Installations"
   ]
  },
  {
   "cell_type": "code",
   "execution_count": 1,
   "id": "fc39cdaa",
   "metadata": {},
   "outputs": [
    {
     "name": "stdout",
     "output_type": "stream",
     "text": [
      "Hello World\n"
     ]
    }
   ],
   "source": [
    "print(\"Hello World\")"
   ]
  },
  {
   "cell_type": "code",
   "execution_count": 2,
   "id": "b0f95bd8",
   "metadata": {},
   "outputs": [
    {
     "name": "stdout",
     "output_type": "stream",
     "text": [
      "Hello\n",
      "World\n"
     ]
    }
   ],
   "source": [
    "print(\"Hello\")\n",
    "print(\"World\")"
   ]
  },
  {
   "cell_type": "code",
   "execution_count": null,
   "id": "38a4c202",
   "metadata": {},
   "outputs": [],
   "source": [
    "1 -> True\n",
    "0 -> False"
   ]
  },
  {
   "cell_type": "code",
   "execution_count": null,
   "id": "108c161d",
   "metadata": {},
   "outputs": [],
   "source": [
    "# c programming\n",
    "int a = 10;"
   ]
  },
  {
   "cell_type": "code",
   "execution_count": 5,
   "id": "7c1bf0af",
   "metadata": {},
   "outputs": [
    {
     "name": "stdout",
     "output_type": "stream",
     "text": [
      "10\n"
     ]
    }
   ],
   "source": [
    "# variables\n",
    "\n",
    "a = 10\n",
    "\n",
    "print(a)"
   ]
  },
  {
   "cell_type": "code",
   "execution_count": 6,
   "id": "07616917",
   "metadata": {},
   "outputs": [
    {
     "name": "stdout",
     "output_type": "stream",
     "text": [
      "<class 'int'>\n"
     ]
    }
   ],
   "source": [
    "print(type(a))"
   ]
  },
  {
   "cell_type": "code",
   "execution_count": 7,
   "id": "d3c10591",
   "metadata": {},
   "outputs": [
    {
     "name": "stdout",
     "output_type": "stream",
     "text": [
      "10.5\n",
      "<class 'float'>\n"
     ]
    }
   ],
   "source": [
    "b = 10.5\n",
    "\n",
    "print(b)\n",
    "\n",
    "print(type(b))"
   ]
  },
  {
   "cell_type": "code",
   "execution_count": 8,
   "id": "00545fb2",
   "metadata": {},
   "outputs": [
    {
     "name": "stdout",
     "output_type": "stream",
     "text": [
      "10\n",
      "10\n"
     ]
    }
   ],
   "source": [
    "# taking values from user\n",
    "\n",
    "a = input()\n",
    "\n",
    "print(a)"
   ]
  },
  {
   "cell_type": "code",
   "execution_count": 9,
   "id": "1740a480",
   "metadata": {},
   "outputs": [
    {
     "name": "stdout",
     "output_type": "stream",
     "text": [
      "Enter your name: Himanshu\n",
      "Himanshu\n"
     ]
    }
   ],
   "source": [
    "a = input(\"Enter your name: \")\n",
    "\n",
    "print(a)"
   ]
  },
  {
   "cell_type": "code",
   "execution_count": 10,
   "id": "041ee83e",
   "metadata": {},
   "outputs": [
    {
     "name": "stdout",
     "output_type": "stream",
     "text": [
      "Enter your name: Himanshu\n",
      "Hi Himanshu\n"
     ]
    }
   ],
   "source": [
    "a = input(\"Enter your name: \")\n",
    "\n",
    "print(\"Hi\", a)"
   ]
  },
  {
   "cell_type": "code",
   "execution_count": 11,
   "id": "cc6d1a60",
   "metadata": {},
   "outputs": [
    {
     "name": "stdout",
     "output_type": "stream",
     "text": [
      "Hello\n"
     ]
    }
   ],
   "source": [
    "# conditional statements\n",
    "\n",
    "a = 15\n",
    "\n",
    "if a > 10:\n",
    "    print(\"Hello\")"
   ]
  },
  {
   "cell_type": "code",
   "execution_count": 12,
   "id": "54197e51",
   "metadata": {},
   "outputs": [
    {
     "name": "stdout",
     "output_type": "stream",
     "text": [
      "Hello\n"
     ]
    }
   ],
   "source": [
    "a = 15\n",
    "\n",
    "if a > 10:\n",
    "    print(\"Hello\")\n",
    "else:\n",
    "    print(\"Bye\")"
   ]
  },
  {
   "cell_type": "code",
   "execution_count": 13,
   "id": "1fa38d80",
   "metadata": {},
   "outputs": [
    {
     "name": "stdout",
     "output_type": "stream",
     "text": [
      "Take your money\n"
     ]
    }
   ],
   "source": [
    "pin = 1234\n",
    "\n",
    "if pin == 1234:\n",
    "    print(\"Take your money\")\n",
    "else:\n",
    "    print(\"Incorrect Pin\")"
   ]
  },
  {
   "cell_type": "code",
   "execution_count": null,
   "id": "f91335fd",
   "metadata": {},
   "outputs": [],
   "source": [
    "a = \"India\""
   ]
  },
  {
   "cell_type": "code",
   "execution_count": 16,
   "id": "32f8abeb",
   "metadata": {},
   "outputs": [
    {
     "name": "stdout",
     "output_type": "stream",
     "text": [
      "Enter Your Pin: 1234\n",
      "Take your money\n"
     ]
    }
   ],
   "source": [
    "pin = int(input(\"Enter Your Pin: \"))\n",
    "\n",
    "if pin == 1234:\n",
    "    print(\"Take your money\")\n",
    "else:\n",
    "    print(\"Incorrect Pin\")"
   ]
  },
  {
   "cell_type": "markdown",
   "id": "f539afa2",
   "metadata": {},
   "source": [
    "# 2 | While Loops, Lists, Strings"
   ]
  },
  {
   "cell_type": "code",
   "execution_count": 17,
   "id": "c053fccc",
   "metadata": {},
   "outputs": [
    {
     "name": "stdout",
     "output_type": "stream",
     "text": [
      "Himanshu\n"
     ]
    }
   ],
   "source": [
    "print(\"Himanshu\")"
   ]
  },
  {
   "cell_type": "code",
   "execution_count": 20,
   "id": "12ef1a3e",
   "metadata": {},
   "outputs": [
    {
     "name": "stdout",
     "output_type": "stream",
     "text": [
      "False\n"
     ]
    }
   ],
   "source": [
    "i = 10\n",
    "print(i > 10)"
   ]
  },
  {
   "cell_type": "code",
   "execution_count": 21,
   "id": "3300a368",
   "metadata": {},
   "outputs": [
    {
     "name": "stdout",
     "output_type": "stream",
     "text": [
      "Himanshu\n",
      "Himanshu\n",
      "Himanshu\n",
      "Himanshu\n",
      "Himanshu\n",
      "Himanshu\n",
      "Himanshu\n",
      "Himanshu\n",
      "Himanshu\n",
      "Himanshu\n"
     ]
    }
   ],
   "source": [
    "# While loop\n",
    "\n",
    "i = 1\n",
    "\n",
    "while i <= 10:\n",
    "    print(\"Himanshu\")\n",
    "    i = i + 1"
   ]
  },
  {
   "cell_type": "code",
   "execution_count": 22,
   "id": "761cead3",
   "metadata": {},
   "outputs": [
    {
     "name": "stdout",
     "output_type": "stream",
     "text": [
      "1\n",
      "2\n",
      "3\n",
      "4\n",
      "5\n",
      "6\n",
      "7\n",
      "8\n",
      "9\n",
      "10\n"
     ]
    }
   ],
   "source": [
    "i = 1\n",
    "\n",
    "while i <= 10:\n",
    "    print(i)\n",
    "    i = i + 1"
   ]
  },
  {
   "cell_type": "code",
   "execution_count": null,
   "id": "52593596",
   "metadata": {},
   "outputs": [],
   "source": [
    "\\n -> new line character"
   ]
  },
  {
   "cell_type": "code",
   "execution_count": 24,
   "id": "1aed89f9",
   "metadata": {},
   "outputs": [
    {
     "name": "stdout",
     "output_type": "stream",
     "text": [
      "Hello\n",
      "World\n"
     ]
    }
   ],
   "source": [
    "print(\"Hello\", end=\"\\n\")\n",
    "print(\"World\")"
   ]
  },
  {
   "cell_type": "code",
   "execution_count": 25,
   "id": "5d3e6129",
   "metadata": {},
   "outputs": [
    {
     "name": "stdout",
     "output_type": "stream",
     "text": [
      "Hello++World\n"
     ]
    }
   ],
   "source": [
    "print(\"Hello\", end=\"++\")\n",
    "print(\"World\")"
   ]
  },
  {
   "cell_type": "code",
   "execution_count": 26,
   "id": "d4f0a3be",
   "metadata": {},
   "outputs": [
    {
     "name": "stdout",
     "output_type": "stream",
     "text": [
      "Hello World\n"
     ]
    }
   ],
   "source": [
    "print(\"Hello\", end=\" \")\n",
    "print(\"World\")"
   ]
  },
  {
   "cell_type": "code",
   "execution_count": 27,
   "id": "e1657f0c",
   "metadata": {},
   "outputs": [
    {
     "name": "stdout",
     "output_type": "stream",
     "text": [
      "HelloWorld\n"
     ]
    }
   ],
   "source": [
    "print(\"Hello\", end=\"\")\n",
    "print(\"World\")"
   ]
  },
  {
   "cell_type": "code",
   "execution_count": null,
   "id": "b5c81d92",
   "metadata": {},
   "outputs": [],
   "source": [
    "# print the following series using while loop"
   ]
  },
  {
   "cell_type": "code",
   "execution_count": null,
   "id": "51ca852a",
   "metadata": {},
   "outputs": [],
   "source": [
    "1 2 3 4 5 6 7 8 9 10"
   ]
  },
  {
   "cell_type": "code",
   "execution_count": null,
   "id": "314c30a3",
   "metadata": {},
   "outputs": [],
   "source": [
    "1 4 9 16 25 36 49 64 81 100"
   ]
  },
  {
   "cell_type": "markdown",
   "id": "046a6337",
   "metadata": {},
   "source": [
    "### List"
   ]
  },
  {
   "cell_type": "code",
   "execution_count": 28,
   "id": "48f10ad7",
   "metadata": {},
   "outputs": [
    {
     "name": "stdout",
     "output_type": "stream",
     "text": [
      "[10, 20.4, 'Indore', 'A']\n",
      "<class 'list'>\n"
     ]
    }
   ],
   "source": [
    "#    -4   -3     -2      -1\n",
    "l = [10, 20.4 ,\"Indore\", 'A']\n",
    "#    0    1       2       3\n",
    "\n",
    "print(l)\n",
    "\n",
    "print(type(l))"
   ]
  },
  {
   "cell_type": "code",
   "execution_count": 29,
   "id": "ce9e4e58",
   "metadata": {},
   "outputs": [
    {
     "name": "stdout",
     "output_type": "stream",
     "text": [
      "10\n"
     ]
    }
   ],
   "source": [
    "print(l[0])"
   ]
  },
  {
   "cell_type": "code",
   "execution_count": 30,
   "id": "286fef59",
   "metadata": {},
   "outputs": [
    {
     "name": "stdout",
     "output_type": "stream",
     "text": [
      "<class 'int'>\n"
     ]
    }
   ],
   "source": [
    "print(type(l[0]))"
   ]
  },
  {
   "cell_type": "code",
   "execution_count": 31,
   "id": "d197d529",
   "metadata": {},
   "outputs": [
    {
     "name": "stdout",
     "output_type": "stream",
     "text": [
      "10\n"
     ]
    }
   ],
   "source": [
    "print(l[-4])"
   ]
  },
  {
   "cell_type": "code",
   "execution_count": 32,
   "id": "8bdb7543",
   "metadata": {},
   "outputs": [
    {
     "name": "stdout",
     "output_type": "stream",
     "text": [
      "Indore\n",
      "Indore\n"
     ]
    }
   ],
   "source": [
    "print(l[2])\n",
    "print(l[-2])"
   ]
  },
  {
   "cell_type": "markdown",
   "id": "0af5abd7",
   "metadata": {},
   "source": [
    "### strings"
   ]
  },
  {
   "cell_type": "code",
   "execution_count": 33,
   "id": "e5693d6e",
   "metadata": {},
   "outputs": [
    {
     "name": "stdout",
     "output_type": "stream",
     "text": [
      "Indore\n",
      "<class 'str'>\n"
     ]
    }
   ],
   "source": [
    "#        -1\n",
    "s = \"Indore\"\n",
    "#    012345\n",
    "\n",
    "print(s)\n",
    "\n",
    "print(type(s))"
   ]
  },
  {
   "cell_type": "code",
   "execution_count": 34,
   "id": "02056647",
   "metadata": {},
   "outputs": [
    {
     "name": "stdout",
     "output_type": "stream",
     "text": [
      "I\n"
     ]
    }
   ],
   "source": [
    "print(s[0])"
   ]
  },
  {
   "cell_type": "code",
   "execution_count": 35,
   "id": "fcd2e735",
   "metadata": {},
   "outputs": [
    {
     "name": "stdout",
     "output_type": "stream",
     "text": [
      "<class 'str'>\n"
     ]
    }
   ],
   "source": [
    "print(type(s[0]))"
   ]
  },
  {
   "cell_type": "code",
   "execution_count": 36,
   "id": "cd0dc871",
   "metadata": {},
   "outputs": [
    {
     "name": "stdout",
     "output_type": "stream",
     "text": [
      "e\n"
     ]
    }
   ],
   "source": [
    "print(s[-1])"
   ]
  },
  {
   "cell_type": "code",
   "execution_count": 37,
   "id": "790a3d0a",
   "metadata": {},
   "outputs": [
    {
     "name": "stdout",
     "output_type": "stream",
     "text": [
      "Indore\n",
      "<class 'str'>\n"
     ]
    }
   ],
   "source": [
    "s = 'Indore'\n",
    "\n",
    "print(s)\n",
    "\n",
    "print(type(s))"
   ]
  },
  {
   "cell_type": "code",
   "execution_count": 38,
   "id": "0aa76117",
   "metadata": {},
   "outputs": [
    {
     "ename": "SyntaxError",
     "evalue": "invalid syntax (1513794406.py, line 1)",
     "output_type": "error",
     "traceback": [
      "\u001b[1;36m  Input \u001b[1;32mIn [38]\u001b[1;36m\u001b[0m\n\u001b[1;33m    s = 'It's'\u001b[0m\n\u001b[1;37m            ^\u001b[0m\n\u001b[1;31mSyntaxError\u001b[0m\u001b[1;31m:\u001b[0m invalid syntax\n"
     ]
    }
   ],
   "source": [
    "s = 'It's'\n",
    "\n",
    "print(s)"
   ]
  },
  {
   "cell_type": "code",
   "execution_count": 39,
   "id": "ddac5df4",
   "metadata": {},
   "outputs": [
    {
     "name": "stdout",
     "output_type": "stream",
     "text": [
      "It's\n"
     ]
    }
   ],
   "source": [
    "s = \"It's\"\n",
    "\n",
    "print(s)"
   ]
  },
  {
   "cell_type": "code",
   "execution_count": 40,
   "id": "b841bc79",
   "metadata": {},
   "outputs": [
    {
     "name": "stdout",
     "output_type": "stream",
     "text": [
      "'\n"
     ]
    }
   ],
   "source": [
    "print(s[2])"
   ]
  },
  {
   "cell_type": "code",
   "execution_count": null,
   "id": "94e67a63",
   "metadata": {},
   "outputs": [],
   "source": []
  },
  {
   "cell_type": "markdown",
   "id": "c4f3368b",
   "metadata": {},
   "source": [
    "# 3 | Functions"
   ]
  },
  {
   "cell_type": "code",
   "execution_count": 41,
   "id": "7c26dd38",
   "metadata": {},
   "outputs": [],
   "source": [
    "# code on demand\n",
    "\n",
    "def indore():                                 # definition of function\n",
    "    print(\"Hi from Indore\")"
   ]
  },
  {
   "cell_type": "code",
   "execution_count": 42,
   "id": "838c0f3c",
   "metadata": {},
   "outputs": [
    {
     "name": "stdout",
     "output_type": "stream",
     "text": [
      "Hi from Indore\n"
     ]
    }
   ],
   "source": [
    "indore()                                      # calling function"
   ]
  },
  {
   "cell_type": "code",
   "execution_count": 43,
   "id": "57ada879",
   "metadata": {},
   "outputs": [
    {
     "name": "stdout",
     "output_type": "stream",
     "text": [
      "Hi from Indore\n"
     ]
    }
   ],
   "source": [
    "indore()"
   ]
  },
  {
   "cell_type": "code",
   "execution_count": 45,
   "id": "62b7b87f",
   "metadata": {},
   "outputs": [
    {
     "ename": "TypeError",
     "evalue": "square() missing 1 required positional argument: 'x'",
     "output_type": "error",
     "traceback": [
      "\u001b[1;31m---------------------------------------------------------------------------\u001b[0m",
      "\u001b[1;31mTypeError\u001b[0m                                 Traceback (most recent call last)",
      "Input \u001b[1;32mIn [45]\u001b[0m, in \u001b[0;36m<cell line: 4>\u001b[1;34m()\u001b[0m\n\u001b[0;32m      1\u001b[0m \u001b[38;5;28;01mdef\u001b[39;00m \u001b[38;5;21msquare\u001b[39m(x):\n\u001b[0;32m      2\u001b[0m     \u001b[38;5;28mprint\u001b[39m(x \u001b[38;5;241m+\u001b[39m \u001b[38;5;241m5\u001b[39m)\n\u001b[1;32m----> 4\u001b[0m \u001b[43msquare\u001b[49m\u001b[43m(\u001b[49m\u001b[43m)\u001b[49m\n",
      "\u001b[1;31mTypeError\u001b[0m: square() missing 1 required positional argument: 'x'"
     ]
    }
   ],
   "source": [
    "def square(x):\n",
    "    print(x + 5)\n",
    "\n",
    "square()"
   ]
  },
  {
   "cell_type": "code",
   "execution_count": 46,
   "id": "49a3bc44",
   "metadata": {},
   "outputs": [
    {
     "name": "stdout",
     "output_type": "stream",
     "text": [
      "15\n"
     ]
    }
   ],
   "source": [
    "def square(x):            # x = 10\n",
    "    print(x + 5)\n",
    "\n",
    "square(10)"
   ]
  },
  {
   "cell_type": "code",
   "execution_count": 47,
   "id": "c3de6990",
   "metadata": {},
   "outputs": [
    {
     "name": "stdout",
     "output_type": "stream",
     "text": [
      "9\n"
     ]
    }
   ],
   "source": [
    "def square(x, y):            # x = 5, y = 4\n",
    "    print(x + y)\n",
    "\n",
    "square(5,4)"
   ]
  },
  {
   "cell_type": "code",
   "execution_count": 48,
   "id": "d3a04578",
   "metadata": {},
   "outputs": [],
   "source": [
    "# return statements\n",
    "\n",
    "def greater(x, y):\n",
    "    if x >= y:\n",
    "        return x\n",
    "    else:\n",
    "        return y"
   ]
  },
  {
   "cell_type": "code",
   "execution_count": 49,
   "id": "bbba7c9e",
   "metadata": {},
   "outputs": [
    {
     "name": "stdout",
     "output_type": "stream",
     "text": [
      "10\n"
     ]
    }
   ],
   "source": [
    "print(greater(10,5))\n",
    "#          10"
   ]
  },
  {
   "cell_type": "code",
   "execution_count": 50,
   "id": "1e06751f",
   "metadata": {},
   "outputs": [
    {
     "name": "stdout",
     "output_type": "stream",
     "text": [
      "25\n"
     ]
    }
   ],
   "source": [
    "print(greater(15,25))\n",
    "#          25"
   ]
  },
  {
   "cell_type": "code",
   "execution_count": 51,
   "id": "b3c386c1",
   "metadata": {},
   "outputs": [
    {
     "name": "stdout",
     "output_type": "stream",
     "text": [
      "2\n"
     ]
    }
   ],
   "source": [
    "z = greater(1,2)\n",
    "\n",
    "print(z)"
   ]
  },
  {
   "cell_type": "markdown",
   "id": "84f5fa29",
   "metadata": {},
   "source": [
    "# 4 | Modules, Packages, and PIP"
   ]
  },
  {
   "cell_type": "code",
   "execution_count": null,
   "id": "386616a8",
   "metadata": {},
   "outputs": [],
   "source": [
    "10 binary -> 1010\n"
   ]
  },
  {
   "cell_type": "code",
   "execution_count": null,
   "id": "8b45cad3",
   "metadata": {},
   "outputs": [],
   "source": [
    "ASCII\n",
    "\n",
    "A -> 65\n",
    "B -> 66\n",
    "Z -> 90\n",
    "\n",
    "space -> 32\n",
    "\n",
    "a -> 97\n",
    "z -> 122"
   ]
  },
  {
   "cell_type": "code",
   "execution_count": null,
   "id": "cbd50a60",
   "metadata": {},
   "outputs": [],
   "source": [
    "main.py"
   ]
  },
  {
   "cell_type": "code",
   "execution_count": null,
   "id": "c864b55c",
   "metadata": {},
   "outputs": [],
   "source": [
    "bit > numbers > characters > instructions > function > program > modules > packages > library > frameworks > software"
   ]
  },
  {
   "cell_type": "code",
   "execution_count": null,
   "id": "bfe95d8b",
   "metadata": {},
   "outputs": [],
   "source": [
    "pip - python package index"
   ]
  },
  {
   "cell_type": "code",
   "execution_count": 52,
   "id": "fa2fe959",
   "metadata": {},
   "outputs": [],
   "source": [
    "import os"
   ]
  },
  {
   "cell_type": "code",
   "execution_count": 54,
   "id": "534ce08f",
   "metadata": {
    "scrolled": true
   },
   "outputs": [],
   "source": [
    "# help(os)"
   ]
  },
  {
   "cell_type": "code",
   "execution_count": 55,
   "id": "a645c2a4",
   "metadata": {},
   "outputs": [],
   "source": [
    "os.mkdir('images')"
   ]
  },
  {
   "cell_type": "code",
   "execution_count": 56,
   "id": "e9c8e2a4",
   "metadata": {},
   "outputs": [],
   "source": [
    "os.rmdir('images')"
   ]
  },
  {
   "cell_type": "code",
   "execution_count": 57,
   "id": "450d1b2a",
   "metadata": {},
   "outputs": [],
   "source": [
    "import math"
   ]
  },
  {
   "cell_type": "code",
   "execution_count": 58,
   "id": "d42741c7",
   "metadata": {},
   "outputs": [
    {
     "name": "stdout",
     "output_type": "stream",
     "text": [
      "3.141592653589793\n"
     ]
    }
   ],
   "source": [
    "print(math.pi)"
   ]
  },
  {
   "cell_type": "code",
   "execution_count": 59,
   "id": "f999f71a",
   "metadata": {},
   "outputs": [
    {
     "name": "stdout",
     "output_type": "stream",
     "text": [
      "2.0\n"
     ]
    }
   ],
   "source": [
    "print(math.sqrt(4))"
   ]
  },
  {
   "cell_type": "code",
   "execution_count": 60,
   "id": "d097484c",
   "metadata": {},
   "outputs": [
    {
     "name": "stdout",
     "output_type": "stream",
     "text": [
      "1.4142135623730951\n"
     ]
    }
   ],
   "source": [
    "print(math.sqrt(2))"
   ]
  },
  {
   "cell_type": "markdown",
   "id": "7b11e840",
   "metadata": {},
   "source": [
    "# 5 | Data Structures & Algorithms"
   ]
  },
  {
   "cell_type": "code",
   "execution_count": null,
   "id": "225c29e6",
   "metadata": {},
   "outputs": [],
   "source": [
    "# c programming\n",
    "\n",
    "int a = 10;  # 2 bytes -> 16 bits"
   ]
  },
  {
   "cell_type": "code",
   "execution_count": null,
   "id": "7a0cddf4",
   "metadata": {},
   "outputs": [],
   "source": [
    "struct carCustomer{\n",
    "    int sno;\n",
    "    char[10] name;\n",
    "    float price;\n",
    "}"
   ]
  },
  {
   "cell_type": "code",
   "execution_count": null,
   "id": "4dbc6ac0",
   "metadata": {},
   "outputs": [],
   "source": [
    "struct carCustomer c1;  # 16 bytes\n",
    "               int  a;"
   ]
  },
  {
   "cell_type": "code",
   "execution_count": null,
   "id": "49b136eb",
   "metadata": {},
   "outputs": [],
   "source": [
    "Stack\n",
    "Queue\n",
    "Linked List\n",
    "Graphs\n",
    "Trees"
   ]
  },
  {
   "cell_type": "code",
   "execution_count": null,
   "id": "697e1df6",
   "metadata": {},
   "outputs": [],
   "source": [
    "Stack - LIFO - Last In First Out\n",
    "\n",
    "\n",
    "30\n",
    "20\n",
    "10"
   ]
  },
  {
   "cell_type": "code",
   "execution_count": null,
   "id": "34285c15",
   "metadata": {},
   "outputs": [],
   "source": [
    "Queue - First In First Out\n",
    "\n",
    "\n",
    "    20 30 40 50  60\n",
    "   rare            front"
   ]
  }
 ],
 "metadata": {
  "kernelspec": {
   "display_name": "Python 3 (ipykernel)",
   "language": "python",
   "name": "python3"
  },
  "language_info": {
   "codemirror_mode": {
    "name": "ipython",
    "version": 3
   },
   "file_extension": ".py",
   "mimetype": "text/x-python",
   "name": "python",
   "nbconvert_exporter": "python",
   "pygments_lexer": "ipython3",
   "version": "3.9.12"
  }
 },
 "nbformat": 4,
 "nbformat_minor": 5
}
